{
  "nbformat": 4,
  "nbformat_minor": 0,
  "metadata": {
    "colab": {
      "name": "Untitled1.ipynb",
      "version": "0.3.2",
      "provenance": []
    },
    "kernelspec": {
      "name": "python3",
      "display_name": "Python 3"
    }
  },
  "cells": [
    {
      "cell_type": "markdown",
      "metadata": {
        "id": "view-in-github",
        "colab_type": "text"
      },
      "source": [
        "[View in Colaboratory](https://colab.research.google.com/github/AlexBlack2202/cv_ex/blob/master/w1/jupiter_ex1.ipynb)"
      ]
    },
    {
      "metadata": {
        "id": "7Shh2LpPnnwm",
        "colab_type": "text"
      },
      "cell_type": "markdown",
      "source": [
        "ask the user for a number. Depending on whether the number is even or odd, print out an appropriate message to the user. Hint: how does an even / odd number react differently when divided by 2?\n",
        "\n",
        "Extras:\n",
        "\n",
        "If the number is a multiple of 4, print out a different message.\n",
        "Ask the user for two numbers: one number to check (call it num) and one number to divide by (check). If check divides evenly into num, tell that to the user. If not, print a different appropriate message."
      ]
    },
    {
      "metadata": {
        "id": "dXcxJgtxns3_",
        "colab_type": "code",
        "colab": {
          "base_uri": "https://localhost:8080/",
          "height": 51
        },
        "outputId": "1fd13ee0-2fe7-4857-eb4e-c039888749ae"
      },
      "cell_type": "code",
      "source": [
        "val = int(input('Nhap vao 1 so: '))\n",
        "if val % 2 == 0:\n",
        "  print('so chan')\n",
        "else:\n",
        "  print('so le')"
      ],
      "execution_count": 3,
      "outputs": [
        {
          "output_type": "stream",
          "text": [
            "Nhap vao 1 so: 5\n",
            "so le\n"
          ],
          "name": "stdout"
        }
      ]
    },
    {
      "metadata": {
        "id": "4jTRhPzioC5c",
        "colab_type": "text"
      },
      "cell_type": "markdown",
      "source": [
        ""
      ]
    },
    {
      "metadata": {
        "id": "_L3K2XGMqW_K",
        "colab_type": "text"
      },
      "cell_type": "markdown",
      "source": [
        "Birthday name\n",
        "For this exercise, we will keep track of when our friend’s birthdays are, and be able to find that information based on their name. Create a dictionary (in your file) of names and birthdays. When you run your program it should ask the user to enter a name, and return the birthday of that person back to them. The interaction should look something like this:"
      ]
    },
    {
      "metadata": {
        "id": "sfSXdbXwqhW8",
        "colab_type": "code",
        "colab": {
          "base_uri": "https://localhost:8080/",
          "height": 51
        },
        "outputId": "3d96e287-0e91-4b14-c8cf-5b7c1926d1d9"
      },
      "cell_type": "code",
      "source": [
        "user_birthday = {\n",
        "\t\"tom\": '2018-01-01',\n",
        "\t\"alex\": '2018-03-03'\n",
        "}\n",
        "\n",
        "val = input('enter name: ')\n",
        "\n",
        "if val in user_birthday:\n",
        "  print ('Birthday of '+val+\" is \"+user_birthday[val])\n",
        "else:\n",
        "  print(val+' do not have in dictionary')"
      ],
      "execution_count": 5,
      "outputs": [
        {
          "output_type": "stream",
          "text": [
            "enter name: tom\n",
            "Birthday of tom is 2018-01-01\n"
          ],
          "name": "stdout"
        }
      ]
    },
    {
      "metadata": {
        "id": "UPBMEQKCrAfD",
        "colab_type": "text"
      },
      "cell_type": "markdown",
      "source": [
        "Take a list, say for example this one:\n",
        "\n",
        "  a = [1, 1, 2, 3, 5, 8, 13, 21, 34, 55, 89]\n",
        "and write a program that prints out all the elements of the list that are less than 5."
      ]
    },
    {
      "metadata": {
        "id": "ueF1Df4Ytksa",
        "colab_type": "code",
        "colab": {
          "base_uri": "https://localhost:8080/",
          "height": 34
        },
        "outputId": "f7464337-33ef-4be9-93c7-7bb2f8c183df"
      },
      "cell_type": "code",
      "source": [
        "a = [1,2,3,4,5,6,7,12,32,43,1,2,4,245,34,346,34,3,3453,4,5]\n",
        "b = [x for x in a if x < 5]\n",
        "print(b)"
      ],
      "execution_count": 6,
      "outputs": [
        {
          "output_type": "stream",
          "text": [
            "[1, 2, 3, 4, 1, 2, 4, 3, 4]\n"
          ],
          "name": "stdout"
        }
      ]
    },
    {
      "metadata": {
        "id": "8cKrtRV6uQCt",
        "colab_type": "text"
      },
      "cell_type": "markdown",
      "source": [
        "palindrome \n",
        "Ask the user for a string and print out whether this string is a palindrome or not. (A palindrome is a string that reads the same forwards and backwards.\n"
      ]
    },
    {
      "metadata": {
        "id": "f4qG9DNmuUxE",
        "colab_type": "code",
        "colab": {
          "base_uri": "https://localhost:8080/",
          "height": 51
        },
        "outputId": "5e3fde6d-68af-497b-dcbe-7d98347c1ab6"
      },
      "cell_type": "code",
      "source": [
        "val = input('nhap vao mot chuoi bat ky')\n",
        "\n",
        "if val == val[::-1]:\n",
        "  print(val +\" is palindrome\")\n",
        "else:\n",
        "  print(val+\" is not palindrome\")\n"
      ],
      "execution_count": 7,
      "outputs": [
        {
          "output_type": "stream",
          "text": [
            "nhap vao mot chuoi bat ky515\n",
            "515 is palindrome\n"
          ],
          "name": "stdout"
        }
      ]
    },
    {
      "metadata": {
        "id": "ycMckpYrvQfL",
        "colab_type": "text"
      },
      "cell_type": "markdown",
      "source": [
        "Generate a random number between 1 and 9 (including 1 and 9). Ask the user to guess the number, then tell them whether they guessed too low, too high, or exactly right. \n"
      ]
    },
    {
      "metadata": {
        "id": "IIvlnEzVvRdU",
        "colab_type": "code",
        "colab": {
          "base_uri": "https://localhost:8080/",
          "height": 51
        },
        "outputId": "aea6afb0-d296-4eed-f5d9-32e37da0ef8d"
      },
      "cell_type": "code",
      "source": [
        "import random\n",
        "val = random.randint(1,9)\n",
        "user_val = input('Nhap vao 1 so: ')\n",
        "user_val = int(user_val)\n",
        "\n",
        "if user_val == val:\n",
        "  print('Exact match')\n",
        "elif user_val> val:\n",
        "  print('Too low')\n",
        "else:\n",
        "  print('Too hight')"
      ],
      "execution_count": 11,
      "outputs": [
        {
          "output_type": "stream",
          "text": [
            "Nhap vao 1 so: 8\n",
            "Too hight\n"
          ],
          "name": "stdout"
        }
      ]
    }
  ]
}